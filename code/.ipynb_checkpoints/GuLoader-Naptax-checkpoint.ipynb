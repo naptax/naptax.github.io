{
 "cells": [
  {
   "cell_type": "markdown",
   "id": "ceda30fa-2d3f-4c8a-95bf-513140d47d6e",
   "metadata": {
    "tags": []
   },
   "source": [
    "### OALABS"
   ]
  },
  {
   "cell_type": "code",
   "execution_count": 3,
   "id": "cefa71fa-fb18-4077-9b87-f9f3029be6a5",
   "metadata": {},
   "outputs": [
    {
     "data": {
      "text/plain": [
       "'0x539'"
      ]
     },
     "execution_count": 3,
     "metadata": {},
     "output_type": "execute_result"
    }
   ],
   "source": [
    " hex((0x96900857 + 0x10E451D0) ^ 0xaa6dff89 ^ 0xd19a097)"
   ]
  },
  {
   "cell_type": "code",
   "execution_count": 4,
   "id": "e330319f-a9ea-405a-96a3-56c76e082f74",
   "metadata": {},
   "outputs": [
    {
     "data": {
      "text/plain": [
       "'0x100000000'"
      ]
     },
     "execution_count": 4,
     "metadata": {},
     "output_type": "execute_result"
    }
   ],
   "source": [
    "hex((0x191AE730 ^ 0x320EB5D5 ^ 0xB8DB25E1) + 0x6C3088FC)"
   ]
  },
  {
   "cell_type": "code",
   "execution_count": 5,
   "id": "edb6c196-d61f-4ed3-bcb5-4314ca3990d3",
   "metadata": {},
   "outputs": [
    {
     "data": {
      "text/plain": [
       "'0x61'"
      ]
     },
     "execution_count": 5,
     "metadata": {},
     "output_type": "execute_result"
    }
   ],
   "source": [
    "hex((0xE22ECFA7 ^ 0xD05F809C ^ 0x4E1C381C) - 0x7C6D76C6)"
   ]
  },
  {
   "cell_type": "code",
   "execution_count": 8,
   "id": "7ddc0843-edab-4457-904e-fe1cc2482149",
   "metadata": {},
   "outputs": [
    {
     "data": {
      "text/plain": [
       "'0x300'"
      ]
     },
     "execution_count": 8,
     "metadata": {},
     "output_type": "execute_result"
    }
   ],
   "source": [
    "hex((0x1C90313A  ^ 0x0A3C51979 ^ 0x8A519DBE) - 0x3504B2FD)"
   ]
  },
  {
   "cell_type": "markdown",
   "id": "8b32e1df-5477-4eeb-b3d9-710504ded093",
   "metadata": {},
   "source": [
    "## NAPTAX"
   ]
  },
  {
   "cell_type": "code",
   "execution_count": 9,
   "id": "9833dbf2-71cf-4120-a3c4-d10948c25eec",
   "metadata": {},
   "outputs": [
    {
     "data": {
      "text/plain": [
       "'-0xfffffac7'"
      ]
     },
     "execution_count": 9,
     "metadata": {},
     "output_type": "execute_result"
    }
   ],
   "source": [
    " hex((0x96900857 - 0xef1bae30) ^ 0xaa6dff89 ^ 0xd19a097)"
   ]
  },
  {
   "cell_type": "code",
   "execution_count": null,
   "id": "2056fe6c-e96d-4266-a879-9fbc956a817e",
   "metadata": {},
   "outputs": [],
   "source": []
  },
  {
   "cell_type": "markdown",
   "id": "1917f3a2-90ca-440a-8342-8673ba5d64d9",
   "metadata": {},
   "source": [
    "``` nasm\n",
    "000127c6      *(arg4 + 492) = a1\n",
    "000127d3      int32_t var_4 = arg5\n",
    "000127da      int32_t a5 = *(arg4 + 492)\n",
    "000127e4      *(arg4 + 385) = arg6\n",
    "000127f0      char* var_8 = arg2\n",
    "00012819      int32_t edi_1 = *(arg4 + 385)\n",
    "00012821      int32_t ebx\n",
    "00012821      *(arg4 + 639) = ebx\n",
    "00012841      *(arg4 + 564) = 0x96900857\n",
    "0001284b      *(arg4 + 564) = *(arg4 + 564) - 0xef1bae30\n",
    "00012855      *(arg4 + 564) = *(arg4 + 564) ^ 0xaa6dff89\n",
    "00012865      *(arg4 + 564) = *(arg4 + 564) ^ 0xd19a097\n",
    "0001287b      if (a5 == *(arg4 + 564)) ************************* 0x539\n",
    "00012892          int32_t var_10_1 = 0x621d79f9\n",
    "00012897          sub_1290b(sub_1308c(arg3, arg2, arg4, arg5, 0x2064723b), arg4, edi_1)\n",
    "0001289c          *(arg4 + 0xc) = arg5\n",
    "000128f7      sub_1290b((*(arg4 + 0xc))(arg3), arg4, edi_1)\n",
    "0001290a      return arg5\n",
    "```"
   ]
  }
 ],
 "metadata": {
  "kernelspec": {
   "display_name": "Python 3 (ipykernel)",
   "language": "python",
   "name": "python3"
  },
  "language_info": {
   "codemirror_mode": {
    "name": "ipython",
    "version": 3
   },
   "file_extension": ".py",
   "mimetype": "text/x-python",
   "name": "python",
   "nbconvert_exporter": "python",
   "pygments_lexer": "ipython3",
   "version": "3.10.9"
  }
 },
 "nbformat": 4,
 "nbformat_minor": 5
}
