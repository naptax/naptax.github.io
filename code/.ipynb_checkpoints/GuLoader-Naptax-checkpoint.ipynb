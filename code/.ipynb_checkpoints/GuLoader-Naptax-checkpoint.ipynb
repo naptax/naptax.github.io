{
 "cells": [
  {
   "cell_type": "markdown",
   "id": "8b32e1df-5477-4eeb-b3d9-710504ded093",
   "metadata": {},
   "source": [
    "## NAPTAX"
   ]
  },
  {
   "cell_type": "code",
   "execution_count": 3,
   "id": "cefa71fa-fb18-4077-9b87-f9f3029be6a5",
   "metadata": {},
   "outputs": [
    {
     "data": {
      "text/plain": [
       "'0x539'"
      ]
     },
     "execution_count": 3,
     "metadata": {},
     "output_type": "execute_result"
    }
   ],
   "source": [
    " hex((0x96900857 + 0x10E451D0) ^ 0xaa6dff89 ^ 0xd19a097)"
   ]
  },
  {
   "cell_type": "code",
   "execution_count": 4,
   "id": "e330319f-a9ea-405a-96a3-56c76e082f74",
   "metadata": {},
   "outputs": [
    {
     "data": {
      "text/plain": [
       "'0x100000000'"
      ]
     },
     "execution_count": 4,
     "metadata": {},
     "output_type": "execute_result"
    }
   ],
   "source": [
    "hex((0x191AE730 ^ 0x320EB5D5 ^ 0xB8DB25E1) + 0x6C3088FC)"
   ]
  },
  {
   "cell_type": "code",
   "execution_count": 1,
   "id": "dd2bf850-cd07-4ff7-bd23-c4044db09578",
   "metadata": {},
   "outputs": [
    {
     "data": {
      "text/plain": [
       "'0x61'"
      ]
     },
     "execution_count": 1,
     "metadata": {},
     "output_type": "execute_result"
    }
   ],
   "source": [
    "hex((0xE22ECFA7 ^ 0xD05F809C ^ 0x4E1C381C) - 0x7C6D76C6)"
   ]
  },
  {
   "cell_type": "code",
   "execution_count": 2,
   "id": "edb6c196-d61f-4ed3-bcb5-4314ca3990d3",
   "metadata": {},
   "outputs": [
    {
     "data": {
      "text/plain": [
       "2087548614"
      ]
     },
     "execution_count": 2,
     "metadata": {},
     "output_type": "execute_result"
    }
   ],
   "source": [
    "0x7C6D76C6"
   ]
  },
  {
   "cell_type": "code",
   "execution_count": 8,
   "id": "7ddc0843-edab-4457-904e-fe1cc2482149",
   "metadata": {},
   "outputs": [
    {
     "data": {
      "text/plain": [
       "'0x300'"
      ]
     },
     "execution_count": 8,
     "metadata": {},
     "output_type": "execute_result"
    }
   ],
   "source": [
    "hex((0x1C90313A  ^ 0x0A3C51979 ^ 0x8A519DBE) - 0x3504B2FD)"
   ]
  },
  {
   "cell_type": "code",
   "execution_count": 9,
   "id": "9833dbf2-71cf-4120-a3c4-d10948c25eec",
   "metadata": {},
   "outputs": [
    {
     "data": {
      "text/plain": [
       "'-0xfffffac7'"
      ]
     },
     "execution_count": 9,
     "metadata": {},
     "output_type": "execute_result"
    }
   ],
   "source": [
    " hex((0x96900857 - 0xef1bae30) ^ 0xaa6dff89 ^ 0xd19a097)"
   ]
  },
  {
   "cell_type": "code",
   "execution_count": 13,
   "id": "2056fe6c-e96d-4266-a879-9fbc956a817e",
   "metadata": {},
   "outputs": [
    {
     "data": {
      "text/plain": [
       "'0x100001505'"
      ]
     },
     "execution_count": 13,
     "metadata": {},
     "output_type": "execute_result"
    }
   ],
   "source": [
    "hex((0x325cab06 ^ 0xa031dbbb) + (0x1792aaf7) + (0x55fff951))"
   ]
  },
  {
   "cell_type": "code",
   "execution_count": 14,
   "id": "862994dd-1a42-4cb1-91fc-79474b2265be",
   "metadata": {},
   "outputs": [
    {
     "data": {
      "text/plain": [
       "'0x926d70bd'"
      ]
     },
     "execution_count": 14,
     "metadata": {},
     "output_type": "execute_result"
    }
   ],
   "source": [
    "hex((0x325cab06 ^ 0xa031dbbb))"
   ]
  },
  {
   "cell_type": "code",
   "execution_count": null,
   "id": "5abf6e90-4d48-42d2-b965-e567232be062",
   "metadata": {},
   "outputs": [],
   "source": []
  }
 ],
 "metadata": {
  "kernelspec": {
   "display_name": "Python 3 (ipykernel)",
   "language": "python",
   "name": "python3"
  },
  "language_info": {
   "codemirror_mode": {
    "name": "ipython",
    "version": 3
   },
   "file_extension": ".py",
   "mimetype": "text/x-python",
   "name": "python",
   "nbconvert_exporter": "python",
   "pygments_lexer": "ipython3",
   "version": "3.10.9"
  }
 },
 "nbformat": 4,
 "nbformat_minor": 5
}
